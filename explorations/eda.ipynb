{
 "cells": [
  {
   "cell_type": "markdown",
   "id": "ba801815",
   "metadata": {},
   "source": [
    "# EDA of Taxi Trip Pricing dataset from Kaggle\n",
    "This dataset is designed to predict taxi trip fares based on various factors such as distance, time of day, traffic conditions, and more. It provides realistic synthetic data for regression tasks, offering a unique opportunity to explore pricing trends in the taxi industry.\n",
    "\n",
    "Source: https://www.kaggle.com/datasets/denkuznetz/taxi-price-prediction"
   ]
  },
  {
   "cell_type": "markdown",
   "id": "b0c4694f",
   "metadata": {},
   "source": [
    "## 1. Loading the dataset + columns and data types"
   ]
  },
  {
   "cell_type": "code",
   "execution_count": 67,
   "id": "488fe27d",
   "metadata": {},
   "outputs": [],
   "source": [
    "import pandas as pd\n",
    "from taxipred.utils.constants import TAXI_CSV_PATH\n",
    "\n",
    "df = pd.read_csv(TAXI_CSV_PATH)"
   ]
  },
  {
   "cell_type": "markdown",
   "id": "b0409b6f",
   "metadata": {},
   "source": [
    "### Dataset Preview"
   ]
  },
  {
   "cell_type": "code",
   "execution_count": 68,
   "id": "91f091a0",
   "metadata": {},
   "outputs": [
    {
     "data": {
      "text/html": [
       "<div>\n",
       "<style scoped>\n",
       "    .dataframe tbody tr th:only-of-type {\n",
       "        vertical-align: middle;\n",
       "    }\n",
       "\n",
       "    .dataframe tbody tr th {\n",
       "        vertical-align: top;\n",
       "    }\n",
       "\n",
       "    .dataframe thead th {\n",
       "        text-align: right;\n",
       "    }\n",
       "</style>\n",
       "<table border=\"1\" class=\"dataframe\">\n",
       "  <thead>\n",
       "    <tr style=\"text-align: right;\">\n",
       "      <th></th>\n",
       "      <th>Trip_Distance_km</th>\n",
       "      <th>Time_of_Day</th>\n",
       "      <th>Day_of_Week</th>\n",
       "      <th>Passenger_Count</th>\n",
       "      <th>Traffic_Conditions</th>\n",
       "      <th>Weather</th>\n",
       "      <th>Base_Fare</th>\n",
       "      <th>Per_Km_Rate</th>\n",
       "      <th>Per_Minute_Rate</th>\n",
       "      <th>Trip_Duration_Minutes</th>\n",
       "      <th>Trip_Price</th>\n",
       "    </tr>\n",
       "  </thead>\n",
       "  <tbody>\n",
       "    <tr>\n",
       "      <th>0</th>\n",
       "      <td>19.35</td>\n",
       "      <td>Morning</td>\n",
       "      <td>Weekday</td>\n",
       "      <td>3.0</td>\n",
       "      <td>Low</td>\n",
       "      <td>Clear</td>\n",
       "      <td>3.56</td>\n",
       "      <td>0.80</td>\n",
       "      <td>0.32</td>\n",
       "      <td>53.82</td>\n",
       "      <td>36.2624</td>\n",
       "    </tr>\n",
       "    <tr>\n",
       "      <th>1</th>\n",
       "      <td>47.59</td>\n",
       "      <td>Afternoon</td>\n",
       "      <td>Weekday</td>\n",
       "      <td>1.0</td>\n",
       "      <td>High</td>\n",
       "      <td>Clear</td>\n",
       "      <td>NaN</td>\n",
       "      <td>0.62</td>\n",
       "      <td>0.43</td>\n",
       "      <td>40.57</td>\n",
       "      <td>NaN</td>\n",
       "    </tr>\n",
       "    <tr>\n",
       "      <th>2</th>\n",
       "      <td>36.87</td>\n",
       "      <td>Evening</td>\n",
       "      <td>Weekend</td>\n",
       "      <td>1.0</td>\n",
       "      <td>High</td>\n",
       "      <td>Clear</td>\n",
       "      <td>2.70</td>\n",
       "      <td>1.21</td>\n",
       "      <td>0.15</td>\n",
       "      <td>37.27</td>\n",
       "      <td>52.9032</td>\n",
       "    </tr>\n",
       "    <tr>\n",
       "      <th>3</th>\n",
       "      <td>30.33</td>\n",
       "      <td>Evening</td>\n",
       "      <td>Weekday</td>\n",
       "      <td>4.0</td>\n",
       "      <td>Low</td>\n",
       "      <td>NaN</td>\n",
       "      <td>3.48</td>\n",
       "      <td>0.51</td>\n",
       "      <td>0.15</td>\n",
       "      <td>116.81</td>\n",
       "      <td>36.4698</td>\n",
       "    </tr>\n",
       "    <tr>\n",
       "      <th>4</th>\n",
       "      <td>NaN</td>\n",
       "      <td>Evening</td>\n",
       "      <td>Weekday</td>\n",
       "      <td>3.0</td>\n",
       "      <td>High</td>\n",
       "      <td>Clear</td>\n",
       "      <td>2.93</td>\n",
       "      <td>0.63</td>\n",
       "      <td>0.32</td>\n",
       "      <td>22.64</td>\n",
       "      <td>15.6180</td>\n",
       "    </tr>\n",
       "  </tbody>\n",
       "</table>\n",
       "</div>"
      ],
      "text/plain": [
       "   Trip_Distance_km Time_of_Day Day_of_Week  Passenger_Count  \\\n",
       "0             19.35     Morning     Weekday              3.0   \n",
       "1             47.59   Afternoon     Weekday              1.0   \n",
       "2             36.87     Evening     Weekend              1.0   \n",
       "3             30.33     Evening     Weekday              4.0   \n",
       "4               NaN     Evening     Weekday              3.0   \n",
       "\n",
       "  Traffic_Conditions Weather  Base_Fare  Per_Km_Rate  Per_Minute_Rate  \\\n",
       "0                Low   Clear       3.56         0.80             0.32   \n",
       "1               High   Clear        NaN         0.62             0.43   \n",
       "2               High   Clear       2.70         1.21             0.15   \n",
       "3                Low     NaN       3.48         0.51             0.15   \n",
       "4               High   Clear       2.93         0.63             0.32   \n",
       "\n",
       "   Trip_Duration_Minutes  Trip_Price  \n",
       "0                  53.82     36.2624  \n",
       "1                  40.57         NaN  \n",
       "2                  37.27     52.9032  \n",
       "3                 116.81     36.4698  \n",
       "4                  22.64     15.6180  "
      ]
     },
     "execution_count": 68,
     "metadata": {},
     "output_type": "execute_result"
    }
   ],
   "source": [
    "df.head()"
   ]
  },
  {
   "cell_type": "markdown",
   "id": "39b3f2a0",
   "metadata": {},
   "source": [
    "### Info (columns)"
   ]
  },
  {
   "cell_type": "code",
   "execution_count": 69,
   "id": "5009180b",
   "metadata": {},
   "outputs": [
    {
     "name": "stdout",
     "output_type": "stream",
     "text": [
      "<class 'pandas.core.frame.DataFrame'>\n",
      "RangeIndex: 1000 entries, 0 to 999\n",
      "Data columns (total 11 columns):\n",
      " #   Column                 Non-Null Count  Dtype  \n",
      "---  ------                 --------------  -----  \n",
      " 0   Trip_Distance_km       950 non-null    float64\n",
      " 1   Time_of_Day            950 non-null    object \n",
      " 2   Day_of_Week            950 non-null    object \n",
      " 3   Passenger_Count        950 non-null    float64\n",
      " 4   Traffic_Conditions     950 non-null    object \n",
      " 5   Weather                950 non-null    object \n",
      " 6   Base_Fare              950 non-null    float64\n",
      " 7   Per_Km_Rate            950 non-null    float64\n",
      " 8   Per_Minute_Rate        950 non-null    float64\n",
      " 9   Trip_Duration_Minutes  950 non-null    float64\n",
      " 10  Trip_Price             951 non-null    float64\n",
      "dtypes: float64(7), object(4)\n",
      "memory usage: 86.1+ KB\n"
     ]
    }
   ],
   "source": [
    "df.info()"
   ]
  },
  {
   "cell_type": "markdown",
   "id": "24fba44a",
   "metadata": {},
   "source": [
    "### Describe"
   ]
  },
  {
   "cell_type": "code",
   "execution_count": 70,
   "id": "e1f915e7",
   "metadata": {},
   "outputs": [
    {
     "data": {
      "text/html": [
       "<div>\n",
       "<style scoped>\n",
       "    .dataframe tbody tr th:only-of-type {\n",
       "        vertical-align: middle;\n",
       "    }\n",
       "\n",
       "    .dataframe tbody tr th {\n",
       "        vertical-align: top;\n",
       "    }\n",
       "\n",
       "    .dataframe thead th {\n",
       "        text-align: right;\n",
       "    }\n",
       "</style>\n",
       "<table border=\"1\" class=\"dataframe\">\n",
       "  <thead>\n",
       "    <tr style=\"text-align: right;\">\n",
       "      <th></th>\n",
       "      <th>Trip_Distance_km</th>\n",
       "      <th>Passenger_Count</th>\n",
       "      <th>Base_Fare</th>\n",
       "      <th>Per_Km_Rate</th>\n",
       "      <th>Per_Minute_Rate</th>\n",
       "      <th>Trip_Duration_Minutes</th>\n",
       "      <th>Trip_Price</th>\n",
       "    </tr>\n",
       "  </thead>\n",
       "  <tbody>\n",
       "    <tr>\n",
       "      <th>count</th>\n",
       "      <td>950.000000</td>\n",
       "      <td>950.000000</td>\n",
       "      <td>950.000000</td>\n",
       "      <td>950.000000</td>\n",
       "      <td>950.000000</td>\n",
       "      <td>950.000000</td>\n",
       "      <td>951.000000</td>\n",
       "    </tr>\n",
       "    <tr>\n",
       "      <th>mean</th>\n",
       "      <td>27.070547</td>\n",
       "      <td>2.476842</td>\n",
       "      <td>3.502989</td>\n",
       "      <td>1.233316</td>\n",
       "      <td>0.292916</td>\n",
       "      <td>62.118116</td>\n",
       "      <td>56.874773</td>\n",
       "    </tr>\n",
       "    <tr>\n",
       "      <th>std</th>\n",
       "      <td>19.905300</td>\n",
       "      <td>1.102249</td>\n",
       "      <td>0.870162</td>\n",
       "      <td>0.429816</td>\n",
       "      <td>0.115592</td>\n",
       "      <td>32.154406</td>\n",
       "      <td>40.469791</td>\n",
       "    </tr>\n",
       "    <tr>\n",
       "      <th>min</th>\n",
       "      <td>1.230000</td>\n",
       "      <td>1.000000</td>\n",
       "      <td>2.010000</td>\n",
       "      <td>0.500000</td>\n",
       "      <td>0.100000</td>\n",
       "      <td>5.010000</td>\n",
       "      <td>6.126900</td>\n",
       "    </tr>\n",
       "    <tr>\n",
       "      <th>25%</th>\n",
       "      <td>12.632500</td>\n",
       "      <td>1.250000</td>\n",
       "      <td>2.730000</td>\n",
       "      <td>0.860000</td>\n",
       "      <td>0.190000</td>\n",
       "      <td>35.882500</td>\n",
       "      <td>33.742650</td>\n",
       "    </tr>\n",
       "    <tr>\n",
       "      <th>50%</th>\n",
       "      <td>25.830000</td>\n",
       "      <td>2.000000</td>\n",
       "      <td>3.520000</td>\n",
       "      <td>1.220000</td>\n",
       "      <td>0.290000</td>\n",
       "      <td>61.860000</td>\n",
       "      <td>50.074500</td>\n",
       "    </tr>\n",
       "    <tr>\n",
       "      <th>75%</th>\n",
       "      <td>38.405000</td>\n",
       "      <td>3.000000</td>\n",
       "      <td>4.260000</td>\n",
       "      <td>1.610000</td>\n",
       "      <td>0.390000</td>\n",
       "      <td>89.055000</td>\n",
       "      <td>69.099350</td>\n",
       "    </tr>\n",
       "    <tr>\n",
       "      <th>max</th>\n",
       "      <td>146.067047</td>\n",
       "      <td>4.000000</td>\n",
       "      <td>5.000000</td>\n",
       "      <td>2.000000</td>\n",
       "      <td>0.500000</td>\n",
       "      <td>119.840000</td>\n",
       "      <td>332.043689</td>\n",
       "    </tr>\n",
       "  </tbody>\n",
       "</table>\n",
       "</div>"
      ],
      "text/plain": [
       "       Trip_Distance_km  Passenger_Count   Base_Fare  Per_Km_Rate  \\\n",
       "count        950.000000       950.000000  950.000000   950.000000   \n",
       "mean          27.070547         2.476842    3.502989     1.233316   \n",
       "std           19.905300         1.102249    0.870162     0.429816   \n",
       "min            1.230000         1.000000    2.010000     0.500000   \n",
       "25%           12.632500         1.250000    2.730000     0.860000   \n",
       "50%           25.830000         2.000000    3.520000     1.220000   \n",
       "75%           38.405000         3.000000    4.260000     1.610000   \n",
       "max          146.067047         4.000000    5.000000     2.000000   \n",
       "\n",
       "       Per_Minute_Rate  Trip_Duration_Minutes  Trip_Price  \n",
       "count       950.000000             950.000000  951.000000  \n",
       "mean          0.292916              62.118116   56.874773  \n",
       "std           0.115592              32.154406   40.469791  \n",
       "min           0.100000               5.010000    6.126900  \n",
       "25%           0.190000              35.882500   33.742650  \n",
       "50%           0.290000              61.860000   50.074500  \n",
       "75%           0.390000              89.055000   69.099350  \n",
       "max           0.500000             119.840000  332.043689  "
      ]
     },
     "execution_count": 70,
     "metadata": {},
     "output_type": "execute_result"
    }
   ],
   "source": [
    "df.describe()"
   ]
  },
  {
   "cell_type": "markdown",
   "id": "76447d47",
   "metadata": {},
   "source": [
    "___"
   ]
  },
  {
   "cell_type": "markdown",
   "id": "d5c1775b",
   "metadata": {},
   "source": [
    "## 2. Additional EDA - unique values, outliers, correlations"
   ]
  },
  {
   "cell_type": "markdown",
   "id": "119578c8",
   "metadata": {},
   "source": [
    "### A. Check unique values and their frequencies:"
   ]
  },
  {
   "cell_type": "code",
   "execution_count": 71,
   "id": "c7955ba3",
   "metadata": {},
   "outputs": [
    {
     "name": "stdout",
     "output_type": "stream",
     "text": [
      "\n",
      "Time_of_Day:\n",
      "Time_of_Day\n",
      "Afternoon    371\n",
      "Morning      283\n",
      "Evening      203\n",
      "Night         93\n",
      "Name: count, dtype: int64\n",
      "\n",
      "Day_of_Week:\n",
      "Day_of_Week\n",
      "Weekday    655\n",
      "Weekend    295\n",
      "Name: count, dtype: int64\n",
      "\n",
      "Traffic_Conditions:\n",
      "Traffic_Conditions\n",
      "Low       397\n",
      "Medium    371\n",
      "High      182\n",
      "Name: count, dtype: int64\n",
      "\n",
      "Weather:\n",
      "Weather\n",
      "Clear    667\n",
      "Rain     227\n",
      "Snow      56\n",
      "Name: count, dtype: int64\n"
     ]
    }
   ],
   "source": [
    "for col in ['Time_of_Day', 'Day_of_Week', 'Traffic_Conditions', 'Weather']:\n",
    "    print(f\"\\n{col}:\")\n",
    "    print(df[col].value_counts())"
   ]
  },
  {
   "cell_type": "markdown",
   "id": "5926c60a",
   "metadata": {},
   "source": [
    "**Conclusion**: Looks normal/reasonable for taxi trips, so the data quality looks fine!"
   ]
  },
  {
   "cell_type": "markdown",
   "id": "99b97003",
   "metadata": {},
   "source": [
    "### B. See if missing values appear together in specific rows"
   ]
  },
  {
   "cell_type": "code",
   "execution_count": 72,
   "id": "f91e1ee0",
   "metadata": {},
   "outputs": [
    {
     "data": {
      "text/plain": [
       "0    562\n",
       "1    341\n",
       "2     83\n",
       "3     14\n",
       "Name: count, dtype: int64"
      ]
     },
     "execution_count": 72,
     "metadata": {},
     "output_type": "execute_result"
    }
   ],
   "source": [
    "df.isnull().sum(axis=1).value_counts() # Nulls per row"
   ]
  },
  {
   "cell_type": "markdown",
   "id": "42053fe9",
   "metadata": {},
   "source": [
    "**Conclusion**: Most data complete - missing values aren't concentrated to a few \"bad\" lines but rather spread out = easier to clean."
   ]
  },
  {
   "cell_type": "markdown",
   "id": "ae491ef7",
   "metadata": {},
   "source": [
    "### C. Box plots for key numerical features"
   ]
  },
  {
   "cell_type": "code",
   "execution_count": 73,
   "id": "894d38f8",
   "metadata": {},
   "outputs": [
    {
     "data": {
      "text/plain": [
       "<Axes: >"
      ]
     },
     "execution_count": 73,
     "metadata": {},
     "output_type": "execute_result"
    },
    {
     "data": {
      "image/png": "[encoded data removed]",
      "text/plain": [
       "<Figure size 1200x800 with 4 Axes>"
      ]
     },
     "metadata": {},
     "output_type": "display_data"
    }
   ],
   "source": [
    "import matplotlib.pyplot as plt\n",
    "\n",
    "fig, axes = plt.subplots(2, 2, figsize=(12, 8))\n",
    "df.boxplot(column='Trip_Price', ax=axes[0,0])\n",
    "df.boxplot(column='Trip_Distance_km', ax=axes[0,1])\n",
    "df.boxplot(column='Trip_Duration_Minutes', ax=axes[1,0])\n",
    "df.boxplot(column='Base_Fare', ax=axes[1,1])"
   ]
  },
  {
   "cell_type": "markdown",
   "id": "8e9c1eda",
   "metadata": {},
   "source": [
    "**Conclusion**:\n",
    "- `Trip_Price` has many outliers above ~$150 = prices higher than expected by statistical distribution.\n",
    "- `Trip_Distance` has many outliers above ~80 km = longer trips than typical distribution.\n",
    "- `Trip_Duration_Minutes` looks balanced apart from the 120 min one.\n",
    "- `Base_Fare` indicates constistent base pricing."
   ]
  },
  {
   "cell_type": "markdown",
   "id": "19d8f21a",
   "metadata": {},
   "source": [
    "### D. Quick correlation check"
   ]
  },
  {
   "cell_type": "code",
   "execution_count": 74,
   "id": "469581d4",
   "metadata": {},
   "outputs": [
    {
     "data": {
      "text/plain": [
       "Trip_Price               1.000000\n",
       "Trip_Distance_km         0.849123\n",
       "Per_Km_Rate              0.275135\n",
       "Trip_Duration_Minutes    0.221211\n",
       "Per_Minute_Rate          0.141226\n",
       "Base_Fare                0.035533\n",
       "Passenger_Count         -0.014223\n",
       "Name: Trip_Price, dtype: float64"
      ]
     },
     "execution_count": 74,
     "metadata": {},
     "output_type": "execute_result"
    }
   ],
   "source": [
    "numerical_cols = df.select_dtypes(include=['float64', 'int64']).columns\n",
    "df[numerical_cols].corr()['Trip_Price'].sort_values(ascending=False)"
   ]
  },
  {
   "cell_type": "markdown",
   "id": "37bc05cf",
   "metadata": {},
   "source": [
    "**Conclusion**:\n",
    "- `Trip_Distance_Km` is my strongest predictor.\n",
    "- `Per_Km_Rate` has a moderate correlation and might be useful. \n",
    "- `Trip_Duration_Minutes` is weak but might be useful."
   ]
  },
  {
   "cell_type": "markdown",
   "id": "26eb0b1c",
   "metadata": {},
   "source": [
    "### E. Look for \"impossible\" values"
   ]
  },
  {
   "cell_type": "code",
   "execution_count": 75,
   "id": "d5d04e9f",
   "metadata": {},
   "outputs": [
    {
     "name": "stdout",
     "output_type": "stream",
     "text": [
      "Negative values check:\n",
      "Trip_Distance_km         0\n",
      "Passenger_Count          0\n",
      "Base_Fare                0\n",
      "Per_Km_Rate              0\n",
      "Per_Minute_Rate          0\n",
      "Trip_Duration_Minutes    0\n",
      "Trip_Price               0\n",
      "dtype: int64\n",
      "\n",
      "Zero values in distance/duration:\n",
      "Zero distance: 0\n",
      "Zero duration: 0\n"
     ]
    }
   ],
   "source": [
    "numerical_cols = df.select_dtypes(include=['float64', 'int64']).columns\n",
    "print(\"Negative values check:\")\n",
    "print((df[numerical_cols] < 0).sum())\n",
    "\n",
    "print(\"\\nZero values in distance/duration:\")\n",
    "print(f\"Zero distance: {(df['Trip_Distance_km'] == 0).sum()}\")\n",
    "print(f\"Zero duration: {(df['Trip_Duration_Minutes'] == 0).sum()}\")"
   ]
  },
  {
   "cell_type": "markdown",
   "id": "8f49913b",
   "metadata": {},
   "source": [
    "**Conclusion**: \n",
    "- No negative values\n",
    "- No zero distances/durations (\"impossible\" trips)"
   ]
  },
  {
   "cell_type": "markdown",
   "id": "f58a3035",
   "metadata": {},
   "source": [
    "___"
   ]
  },
  {
   "cell_type": "markdown",
   "id": "60f101b2",
   "metadata": {},
   "source": [
    "### 3. Data cleaning"
   ]
  },
  {
   "cell_type": "markdown",
   "id": "903191c0",
   "metadata": {},
   "source": [
    "**Plan**:\n",
    "- I will keep most outliers since they represent actual taxi scenarios - but instead I will focus on impossible or illogical values.\n",
    "- I will drop the lines with 2+ null values, but keep the lines with 1 null value - and try to fill out these values somehow (?). "
   ]
  },
  {
   "cell_type": "code",
   "execution_count": 76,
   "id": "44123739",
   "metadata": {},
   "outputs": [
    {
     "name": "stdout",
     "output_type": "stream",
     "text": [
      "Highest prices:\n",
      "     Trip_Distance_km  Trip_Duration_Minutes  Trip_Price\n",
      "616        138.763887                  74.32  332.043689\n",
      "287        100.380420                  89.21  329.913004\n",
      "225        130.809001                  88.31  328.871769\n",
      "141        109.616082                  53.88  327.217665\n",
      "302        145.747060                  60.29  325.098950\n",
      "\n",
      "Longest distances:\n",
      "     Trip_Distance_km  Trip_Duration_Minutes  Trip_Price\n",
      "64         146.067047                  60.81  320.958664\n",
      "302        145.747060                  60.29  325.098950\n",
      "532        139.476515                  46.85  296.088697\n",
      "268        139.062230                  50.83  276.840597\n",
      "616        138.763887                  74.32  332.043689\n"
     ]
    }
   ],
   "source": [
    "# Actual extremes values (price/distance)\n",
    "print(\"Highest prices:\")\n",
    "print(df.nlargest(5, 'Trip_Price')[['Trip_Distance_km', 'Trip_Duration_Minutes', 'Trip_Price']])\n",
    "\n",
    "print(\"\\nLongest distances:\")  \n",
    "print(df.nlargest(5, 'Trip_Distance_km')[['Trip_Distance_km', 'Trip_Duration_Minutes', 'Trip_Price']])"
   ]
  },
  {
   "cell_type": "code",
   "execution_count": 77,
   "id": "69073bd6",
   "metadata": {},
   "outputs": [],
   "source": [
    "# Dropping lines conditionally\n",
    "df_clean = df[\n",
    "    (df['Trip_Price'] > 0) &  # No free rides\n",
    "    (df['Trip_Distance_km'] > 0) &  # No zero-distance trips\n",
    "    (df['Trip_Duration_Minutes'] > 0)  # No instant trips\n",
    "].copy()"
   ]
  },
  {
   "cell_type": "code",
   "execution_count": 78,
   "id": "c10509ca",
   "metadata": {},
   "outputs": [
    {
     "name": "stdout",
     "output_type": "stream",
     "text": [
      "Null values per row:\n",
      "0    562\n",
      "1    253\n",
      "2     40\n",
      "3      3\n",
      "Name: count, dtype: int64\n",
      "\n",
      "Rows with 2+ nulls: 43\n",
      "Preview of problematic rows:\n",
      "    Trip_Distance_km Time_of_Day Day_of_Week  Passenger_Count  \\\n",
      "13             11.40     Morning     Weekday              3.0   \n",
      "25             39.47   Afternoon     Weekday              1.0   \n",
      "43             45.56   Afternoon     Weekday              NaN   \n",
      "56              5.34         NaN     Weekday              2.0   \n",
      "60             20.05     Evening         NaN              2.0   \n",
      "\n",
      "   Traffic_Conditions Weather  Base_Fare  Per_Km_Rate  Per_Minute_Rate  \\\n",
      "13                NaN   Clear       4.12          NaN             0.15   \n",
      "25                Low   Clear        NaN          NaN             0.35   \n",
      "43                Low   Clear        NaN         0.90             0.50   \n",
      "56                Low   Clear       2.34          NaN             0.18   \n",
      "60                Low     NaN       3.02         0.86             0.39   \n",
      "\n",
      "    Trip_Duration_Minutes  Trip_Price  \n",
      "13                  84.12     36.1180  \n",
      "25                   7.59     83.6965  \n",
      "43                  80.80     85.8840  \n",
      "56                  12.72     10.2366  \n",
      "60                  24.61     29.8609  \n"
     ]
    }
   ],
   "source": [
    "# Check how many nulls per row in cleaned data\n",
    "null_counts_per_row = df_clean.isnull().sum(axis=1)\n",
    "print(\"Null values per row:\")\n",
    "print(null_counts_per_row.value_counts().sort_index())\n",
    "\n",
    "# See which rows have 2+ nulls\n",
    "rows_with_2plus_nulls = df_clean[null_counts_per_row >= 2]\n",
    "print(f\"\\nRows with 2+ nulls: {len(rows_with_2plus_nulls)}\")\n",
    "print(\"Preview of problematic rows:\")\n",
    "print(rows_with_2plus_nulls.head())"
   ]
  },
  {
   "cell_type": "code",
   "execution_count": 79,
   "id": "50b873d0",
   "metadata": {},
   "outputs": [
    {
     "name": "stdout",
     "output_type": "stream",
     "text": [
      "Before: 858 rows\n",
      "After removing 2+ nulls: 815 rows\n",
      "Removed: 43 rows\n"
     ]
    }
   ],
   "source": [
    "# Remove rows with 2+ nulls\n",
    "null_counts_per_row = df_clean.isnull().sum(axis=1)\n",
    "df_clean_drop_nulls = df_clean[null_counts_per_row <= 1].copy()\n",
    "\n",
    "print(f\"Before: {len(df_clean)} rows\")\n",
    "print(f\"After removing 2+ nulls: {len(df_clean_drop_nulls)} rows\")\n",
    "print(f\"Removed: {len(df_clean) - len(df_clean_drop_nulls)} rows\")"
   ]
  },
  {
   "cell_type": "code",
   "execution_count": 80,
   "id": "86dd89d1",
   "metadata": {},
   "outputs": [
    {
     "name": "stdout",
     "output_type": "stream",
     "text": [
      "\n",
      "Remaining null counts:\n",
      "Trip_Distance_km          0\n",
      "Time_of_Day              39\n",
      "Day_of_Week              26\n",
      "Passenger_Count          28\n",
      "Traffic_Conditions       35\n",
      "Weather                  30\n",
      "Base_Fare                31\n",
      "Per_Km_Rate              30\n",
      "Per_Minute_Rate          34\n",
      "Trip_Duration_Minutes     0\n",
      "Trip_Price                0\n",
      "dtype: int64\n"
     ]
    }
   ],
   "source": [
    "# Check remaining nulls\n",
    "print(\"\\nRemaining null counts:\")\n",
    "print(df_clean_drop_nulls.isnull().sum())"
   ]
  },
  {
   "cell_type": "code",
   "execution_count": 81,
   "id": "7a5e6440",
   "metadata": {},
   "outputs": [
    {
     "name": "stdout",
     "output_type": "stream",
     "text": [
      "Filled Time_of_Day nulls with: Afternoon\n",
      "Filled Day_of_Week nulls with: Weekday\n",
      "Filled Traffic_Conditions nulls with: Low\n",
      "Filled Weather nulls with: Clear\n"
     ]
    }
   ],
   "source": [
    "# Fill categorical columns with mode\n",
    "categorical_cols = ['Time_of_Day', 'Day_of_Week', 'Traffic_Conditions', 'Weather'] # Text-based columns to fill with most common values\n",
    "\n",
    "# Loop through the above columns\n",
    "for col in categorical_cols:\n",
    "    if df_clean_drop_nulls[col].isnull().any():\n",
    "        mode_value = df_clean_drop_nulls[col].mode()[0] # Find the most frequent value, and return the first one with 'mode()[0]'\n",
    "        df_clean_drop_nulls[col] = df_clean_drop_nulls[col].fillna(mode_value) # Replace all null values in current column with 'mode_value'\n",
    "        print(f\"Filled {col} nulls with: {mode_value}\")"
   ]
  },
  {
   "cell_type": "code",
   "execution_count": 82,
   "id": "cb1c70fb",
   "metadata": {},
   "outputs": [
    {
     "name": "stdout",
     "output_type": "stream",
     "text": [
      "Filled Passenger_Count nulls with median: 2.00\n",
      "Filled Base_Fare nulls with median: 3.54\n",
      "Filled Per_Km_Rate nulls with median: 1.21\n",
      "Filled Per_Minute_Rate nulls with median: 0.29\n"
     ]
    }
   ],
   "source": [
    "# Fill numerical columns with median value\n",
    "numerical_cols = ['Passenger_Count', 'Base_Fare', 'Per_Km_Rate', 'Per_Minute_Rate'] # Numerical columns to fill with median\n",
    "\n",
    "# Loop through the above columns\n",
    "for col in numerical_cols:\n",
    "    if df_clean_drop_nulls[col].isnull().any():\n",
    "        median_value = df_clean_drop_nulls[col].median() # Calculates the median - better than mean due to the high outliers\n",
    "        df_clean_drop_nulls[col] = df_clean_drop_nulls[col].fillna(median_value) # Replace all null values in current column with 'median_value'\n",
    "        print(f\"Filled {col} nulls with median: {median_value:.2f}\")"
   ]
  },
  {
   "cell_type": "code",
   "execution_count": 83,
   "id": "2dfa43e3",
   "metadata": {},
   "outputs": [
    {
     "name": "stdout",
     "output_type": "stream",
     "text": [
      "Final shape: (815, 11)\n",
      "Total nulls remaining: 0\n",
      "SUCCESS: Dataset was successfully cleaned!\n"
     ]
    }
   ],
   "source": [
    "# Verify the cleaning\n",
    "print(f\"Final shape: {df_clean_drop_nulls.shape}\")\n",
    "print(f\"Total nulls remaining: {df_clean_drop_nulls.isnull().sum().sum()}\")\n",
    "\n",
    "if df_clean_drop_nulls.isnull().sum().sum() == 0:\n",
    "    print(\"SUCCESS: Dataset was successfully cleaned!\")\n",
    "else:\n",
    "    print(\"WARNING: Nulls are still present in the dataset!\")\n",
    "    print(df_clean_drop_nulls.isnull().sum())"
   ]
  },
  {
   "cell_type": "code",
   "execution_count": 84,
   "id": "3825f484",
   "metadata": {},
   "outputs": [
    {
     "name": "stdout",
     "output_type": "stream",
     "text": [
      "New column names:\n",
      "['trip_distance_km', 'time_of_day', 'day_of_week', 'passenger_count', 'traffic_conditions', 'weather', 'base_fare', 'per_km_rate', 'per_minute_rate', 'trip_duration_minutes', 'trip_price']\n"
     ]
    }
   ],
   "source": [
    "# Convert all column names to lowercase\n",
    "df_clean_drop_nulls.columns = df_clean_drop_nulls.columns.str.lower()\n",
    "\n",
    "# Print result to verify changes\n",
    "print(\"New column names:\")\n",
    "print(df_clean_drop_nulls.columns.tolist())"
   ]
  },
  {
   "cell_type": "code",
   "execution_count": 85,
   "id": "2473fdea",
   "metadata": {},
   "outputs": [
    {
     "name": "stdout",
     "output_type": "stream",
     "text": [
      "Saved to: ..\\src\\taxipred\\data\\taxi_trip_pricing_clean.csv\n"
     ]
    }
   ],
   "source": [
    "# Saving the cleaned dataframe\n",
    "from pathlib import Path\n",
    "\n",
    "# Enter taxipred data-folder and save the file\n",
    "clean_csv_path = Path(\"../src/taxipred/data/taxi_trip_pricing_clean.csv\")\n",
    "df_clean_drop_nulls.to_csv(clean_csv_path, index=False)\n",
    "\n",
    "print(f\"Saved to: {clean_csv_path}\")"
   ]
  }
 ],
 "metadata": {
  "kernelspec": {
   "display_name": "taxi-prediction-fullstack-daniel-opa24 (3.13.2)",
   "language": "python",
   "name": "python3"
  },
  "language_info": {
   "codemirror_mode": {
    "name": "ipython",
    "version": 3
   },
   "file_extension": ".py",
   "mimetype": "text/x-python",
   "name": "python",
   "nbconvert_exporter": "python",
   "pygments_lexer": "ipython3",
   "version": "3.13.2"
  }
 },
 "nbformat": 4,
 "nbformat_minor": 5
}
